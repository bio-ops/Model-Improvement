{
 "cells": [
  {
   "cell_type": "code",
   "execution_count": 1,
   "id": "20c55f93",
   "metadata": {},
   "outputs": [
    {
     "data": {
      "text/html": [
       "<div>\n",
       "<style scoped>\n",
       "    .dataframe tbody tr th:only-of-type {\n",
       "        vertical-align: middle;\n",
       "    }\n",
       "\n",
       "    .dataframe tbody tr th {\n",
       "        vertical-align: top;\n",
       "    }\n",
       "\n",
       "    .dataframe thead th {\n",
       "        text-align: right;\n",
       "    }\n",
       "</style>\n",
       "<table border=\"1\" class=\"dataframe\">\n",
       "  <thead>\n",
       "    <tr style=\"text-align: right;\">\n",
       "      <th></th>\n",
       "      <th>checking_balance</th>\n",
       "      <th>months_loan_duration</th>\n",
       "      <th>credit_history</th>\n",
       "      <th>purpose</th>\n",
       "      <th>amount</th>\n",
       "      <th>savings_balance</th>\n",
       "      <th>employment_duration</th>\n",
       "      <th>percent_of_income</th>\n",
       "      <th>years_at_residence</th>\n",
       "      <th>age</th>\n",
       "      <th>other_credit</th>\n",
       "      <th>housing</th>\n",
       "      <th>existing_loans_count</th>\n",
       "      <th>job</th>\n",
       "      <th>dependents</th>\n",
       "      <th>phone</th>\n",
       "      <th>default</th>\n",
       "    </tr>\n",
       "  </thead>\n",
       "  <tbody>\n",
       "    <tr>\n",
       "      <th>0</th>\n",
       "      <td>A11</td>\n",
       "      <td>6</td>\n",
       "      <td>A34</td>\n",
       "      <td>A43</td>\n",
       "      <td>1169</td>\n",
       "      <td>A65</td>\n",
       "      <td>A75</td>\n",
       "      <td>4</td>\n",
       "      <td>4</td>\n",
       "      <td>67</td>\n",
       "      <td>A143</td>\n",
       "      <td>A152</td>\n",
       "      <td>2</td>\n",
       "      <td>A173</td>\n",
       "      <td>1</td>\n",
       "      <td>A192</td>\n",
       "      <td>no</td>\n",
       "    </tr>\n",
       "    <tr>\n",
       "      <th>1</th>\n",
       "      <td>A12</td>\n",
       "      <td>48</td>\n",
       "      <td>A32</td>\n",
       "      <td>A43</td>\n",
       "      <td>5951</td>\n",
       "      <td>A61</td>\n",
       "      <td>A73</td>\n",
       "      <td>2</td>\n",
       "      <td>2</td>\n",
       "      <td>22</td>\n",
       "      <td>A143</td>\n",
       "      <td>A152</td>\n",
       "      <td>1</td>\n",
       "      <td>A173</td>\n",
       "      <td>1</td>\n",
       "      <td>A191</td>\n",
       "      <td>yes</td>\n",
       "    </tr>\n",
       "    <tr>\n",
       "      <th>2</th>\n",
       "      <td>A14</td>\n",
       "      <td>12</td>\n",
       "      <td>A34</td>\n",
       "      <td>A46</td>\n",
       "      <td>2096</td>\n",
       "      <td>A61</td>\n",
       "      <td>A74</td>\n",
       "      <td>2</td>\n",
       "      <td>3</td>\n",
       "      <td>49</td>\n",
       "      <td>A143</td>\n",
       "      <td>A152</td>\n",
       "      <td>1</td>\n",
       "      <td>A172</td>\n",
       "      <td>2</td>\n",
       "      <td>A191</td>\n",
       "      <td>no</td>\n",
       "    </tr>\n",
       "    <tr>\n",
       "      <th>3</th>\n",
       "      <td>A11</td>\n",
       "      <td>42</td>\n",
       "      <td>A32</td>\n",
       "      <td>A42</td>\n",
       "      <td>7882</td>\n",
       "      <td>A61</td>\n",
       "      <td>A74</td>\n",
       "      <td>2</td>\n",
       "      <td>4</td>\n",
       "      <td>45</td>\n",
       "      <td>A143</td>\n",
       "      <td>A153</td>\n",
       "      <td>1</td>\n",
       "      <td>A173</td>\n",
       "      <td>2</td>\n",
       "      <td>A191</td>\n",
       "      <td>no</td>\n",
       "    </tr>\n",
       "    <tr>\n",
       "      <th>4</th>\n",
       "      <td>A11</td>\n",
       "      <td>24</td>\n",
       "      <td>A33</td>\n",
       "      <td>A40</td>\n",
       "      <td>4870</td>\n",
       "      <td>A61</td>\n",
       "      <td>A73</td>\n",
       "      <td>3</td>\n",
       "      <td>4</td>\n",
       "      <td>53</td>\n",
       "      <td>A143</td>\n",
       "      <td>A153</td>\n",
       "      <td>2</td>\n",
       "      <td>A173</td>\n",
       "      <td>2</td>\n",
       "      <td>A191</td>\n",
       "      <td>yes</td>\n",
       "    </tr>\n",
       "  </tbody>\n",
       "</table>\n",
       "</div>"
      ],
      "text/plain": [
       "  checking_balance  months_loan_duration credit_history purpose  amount  \\\n",
       "0              A11                     6            A34     A43    1169   \n",
       "1              A12                    48            A32     A43    5951   \n",
       "2              A14                    12            A34     A46    2096   \n",
       "3              A11                    42            A32     A42    7882   \n",
       "4              A11                    24            A33     A40    4870   \n",
       "\n",
       "  savings_balance employment_duration  percent_of_income  years_at_residence  \\\n",
       "0             A65                 A75                  4                   4   \n",
       "1             A61                 A73                  2                   2   \n",
       "2             A61                 A74                  2                   3   \n",
       "3             A61                 A74                  2                   4   \n",
       "4             A61                 A73                  3                   4   \n",
       "\n",
       "   age other_credit housing  existing_loans_count   job  dependents phone  \\\n",
       "0   67         A143    A152                     2  A173           1  A192   \n",
       "1   22         A143    A152                     1  A173           1  A191   \n",
       "2   49         A143    A152                     1  A172           2  A191   \n",
       "3   45         A143    A153                     1  A173           2  A191   \n",
       "4   53         A143    A153                     2  A173           2  A191   \n",
       "\n",
       "  default  \n",
       "0      no  \n",
       "1     yes  \n",
       "2      no  \n",
       "3      no  \n",
       "4     yes  "
      ]
     },
     "execution_count": 1,
     "metadata": {},
     "output_type": "execute_result"
    }
   ],
   "source": [
    "## Data Preprocessing\n",
    "\n",
    "#Import libraries and read data\n",
    "import pandas as pd\n",
    "credit = pd.read_csv('/Users/babs/Desktop/MBA/Data Mining/credit.csv')\n",
    "# Display the top values of the credit data\n",
    "credit.head()"
   ]
  },
  {
   "cell_type": "code",
   "execution_count": 2,
   "id": "e714941f",
   "metadata": {},
   "outputs": [
    {
     "data": {
      "text/plain": [
       "(1000, 17)"
      ]
     },
     "execution_count": 2,
     "metadata": {},
     "output_type": "execute_result"
    }
   ],
   "source": [
    "# Display credit dataframe shape\n",
    "credit.shape"
   ]
  },
  {
   "cell_type": "code",
   "execution_count": 12,
   "id": "2f72997d",
   "metadata": {},
   "outputs": [],
   "source": [
    "# Perform label encoding for predictors\n",
    "x = pd.get_dummies(credit.iloc[:,0:16], drop_first = True)"
   ]
  },
  {
   "cell_type": "code",
   "execution_count": 13,
   "id": "4b180fde",
   "metadata": {},
   "outputs": [],
   "source": [
    "# Perform label encoding on target variable\n",
    "from sklearn.preprocessing import LabelEncoder\n",
    "labelencoder_credit = LabelEncoder()\n",
    "y = labelencoder_credit.fit_transform(credit['default'].values)"
   ]
  },
  {
   "cell_type": "code",
   "execution_count": 14,
   "id": "1e05e692",
   "metadata": {},
   "outputs": [],
   "source": [
    "# Split data into training set and test set \n",
    "from sklearn.model_selection import train_test_split\n",
    "x_train,x_test,y_train, y_test = train_test_split(x,y,test_size = 0.2, random_state = 0)"
   ]
  },
  {
   "cell_type": "code",
   "execution_count": 15,
   "id": "8ae75e22",
   "metadata": {},
   "outputs": [
    {
     "name": "stdout",
     "output_type": "stream",
     "text": [
      "Accuracy on test set: 0.680\n"
     ]
    }
   ],
   "source": [
    "## Build decision tree\n",
    "# DecisionTreeClassifier is the module that builds a decision tree. Fit attribute used to train model\n",
    "from sklearn.tree import DecisionTreeClassifier\n",
    "from sklearn.metrics import accuracy_score\n",
    "tree = DecisionTreeClassifier(random_state = 0)\n",
    "tree.fit(x_train,y_train)\n",
    "y_pred = tree.predict(x_test)\n",
    "print('Accuracy on test set: {:.3f}'.format(accuracy_score(y_pred,y_test)))"
   ]
  },
  {
   "cell_type": "code",
   "execution_count": 16,
   "id": "74de6196",
   "metadata": {},
   "outputs": [
    {
     "name": "stderr",
     "output_type": "stream",
     "text": [
      "/Users/babs/opt/anaconda3/lib/python3.9/site-packages/sklearn/utils/deprecation.py:87: FutureWarning: Function plot_roc_curve is deprecated; Function :func:`plot_roc_curve` is deprecated in 1.0 and will be removed in 1.2. Use one of the class methods: :meth:`sklearn.metric.RocCurveDisplay.from_predictions` or :meth:`sklearn.metric.RocCurveDisplay.from_estimator`.\n",
      "  warnings.warn(msg, category=FutureWarning)\n"
     ]
    },
    {
     "data": {
      "image/png": "[encoded data removed]",
      "text/plain": [
       "<Figure size 432x288 with 1 Axes>"
      ]
     },
     "metadata": {
      "needs_background": "light"
     },
     "output_type": "display_data"
    }
   ],
   "source": [
    "# Evaluate model performance on test set using ROC\n",
    "from sklearn import metrics\n",
    "from matplotlib import pyplot as plt\n",
    "metrics.plot_roc_curve(tree,x_test,y_test)\n",
    "plt.show()"
   ]
  },
  {
   "cell_type": "code",
   "execution_count": 17,
   "id": "22d5a82d",
   "metadata": {},
   "outputs": [
    {
     "name": "stdout",
     "output_type": "stream",
     "text": [
      "Accuracy scores of each fold: [0.7   0.725 0.615 0.66  0.68 ]\n",
      "Average cross-validation score: 0.68\n"
     ]
    }
   ],
   "source": [
    "## Cross validation\n",
    "\n",
    "from sklearn.model_selection import cross_val_score\n",
    "scores = cross_val_score(tree,x,y, cv = 5)\n",
    "print('Accuracy scores of each fold: {}'.format(scores))\n",
    "print('Average cross-validation score: {:.2f}'.format(scores.mean()))"
   ]
  },
  {
   "cell_type": "code",
   "execution_count": 18,
   "id": "37970967",
   "metadata": {},
   "outputs": [
    {
     "name": "stdout",
     "output_type": "stream",
     "text": [
      "Bagging Model Accuracy on test set: 0.770\n"
     ]
    }
   ],
   "source": [
    "## Ensemble methods -> Improve model performance\n",
    "\n",
    "# Bagging method\n",
    "\n",
    "from sklearn.ensemble import BaggingClassifier\n",
    "bagging = BaggingClassifier(n_estimators = 100, random_state = 0)\n",
    "bagging.fit(x_train, y_train)\n",
    "y_bagging_pred = bagging.predict(x_test)\n",
    "print('Bagging Model Accuracy on test set: {:.3f}'.format(accuracy_score(y_test,y_bagging_pred)))"
   ]
  },
  {
   "cell_type": "code",
   "execution_count": 19,
   "id": "d7f557a0",
   "metadata": {},
   "outputs": [
    {
     "name": "stderr",
     "output_type": "stream",
     "text": [
      "/Users/babs/opt/anaconda3/lib/python3.9/site-packages/sklearn/utils/deprecation.py:87: FutureWarning: Function plot_roc_curve is deprecated; Function :func:`plot_roc_curve` is deprecated in 1.0 and will be removed in 1.2. Use one of the class methods: :meth:`sklearn.metric.RocCurveDisplay.from_predictions` or :meth:`sklearn.metric.RocCurveDisplay.from_estimator`.\n",
      "  warnings.warn(msg, category=FutureWarning)\n"
     ]
    },
    {
     "data": {
      "image/png": "[encoded data removed]",
      "text/plain": [
       "<Figure size 432x288 with 1 Axes>"
      ]
     },
     "metadata": {
      "needs_background": "light"
     },
     "output_type": "display_data"
    }
   ],
   "source": [
    "# Calculate AUC \n",
    "\n",
    "metrics.plot_roc_curve(bagging,x_test,y_test)\n",
    "plt.show()"
   ]
  },
  {
   "cell_type": "code",
   "execution_count": 20,
   "id": "808ecc8f",
   "metadata": {},
   "outputs": [
    {
     "name": "stdout",
     "output_type": "stream",
     "text": [
      "Accuracy on test set: 0.770\n"
     ]
    }
   ],
   "source": [
    "# Boosting Method\n",
    "\n",
    "from sklearn.ensemble import AdaBoostClassifier\n",
    "boost = AdaBoostClassifier(n_estimators=100, random_state = 0)\n",
    "boost.fit(x_train,y_train)\n",
    "y_boost_pred = boost.predict(x_test)\n",
    "print('Accuracy on test set: {:.3f}'.format(accuracy_score(y_boost_pred, y_test)))"
   ]
  },
  {
   "cell_type": "code",
   "execution_count": 21,
   "id": "1a96d563",
   "metadata": {},
   "outputs": [
    {
     "name": "stderr",
     "output_type": "stream",
     "text": [
      "/Users/babs/opt/anaconda3/lib/python3.9/site-packages/sklearn/utils/deprecation.py:87: FutureWarning: Function plot_roc_curve is deprecated; Function :func:`plot_roc_curve` is deprecated in 1.0 and will be removed in 1.2. Use one of the class methods: :meth:`sklearn.metric.RocCurveDisplay.from_predictions` or :meth:`sklearn.metric.RocCurveDisplay.from_estimator`.\n",
      "  warnings.warn(msg, category=FutureWarning)\n"
     ]
    },
    {
     "data": {
      "image/png": "[encoded data removed]",
      "text/plain": [
       "<Figure size 432x288 with 1 Axes>"
      ]
     },
     "metadata": {
      "needs_background": "light"
     },
     "output_type": "display_data"
    }
   ],
   "source": [
    "# Plot roc curve\n",
    "metrics.plot_roc_curve(boost,x_test,y_test)\n",
    "plt.show()"
   ]
  },
  {
   "cell_type": "code",
   "execution_count": 23,
   "id": "9af92264",
   "metadata": {},
   "outputs": [
    {
     "name": "stdout",
     "output_type": "stream",
     "text": [
      "Random Forest Accuracy on test set: 0.765\n"
     ]
    }
   ],
   "source": [
    "# Random Forest Method\n",
    "from sklearn.ensemble import RandomForestClassifier\n",
    "forest= RandomForestClassifier(n_estimators = 1000, random_state = 0)\n",
    "forest.fit(x_train,y_train)\n",
    "y_rf_pred = forest.predict(x_test)\n",
    "print('Random Forest Accuracy on test set: {:.3f}'.format(accuracy_score(y_test,y_rf_pred)))"
   ]
  },
  {
   "cell_type": "code",
   "execution_count": 24,
   "id": "6a20fdcd",
   "metadata": {},
   "outputs": [
    {
     "name": "stderr",
     "output_type": "stream",
     "text": [
      "/Users/babs/opt/anaconda3/lib/python3.9/site-packages/sklearn/utils/deprecation.py:87: FutureWarning: Function plot_roc_curve is deprecated; Function :func:`plot_roc_curve` is deprecated in 1.0 and will be removed in 1.2. Use one of the class methods: :meth:`sklearn.metric.RocCurveDisplay.from_predictions` or :meth:`sklearn.metric.RocCurveDisplay.from_estimator`.\n",
      "  warnings.warn(msg, category=FutureWarning)\n"
     ]
    },
    {
     "data": {
      "image/png": "[encoded data removed]",
      "text/plain": [
       "<Figure size 432x288 with 1 Axes>"
      ]
     },
     "metadata": {
      "needs_background": "light"
     },
     "output_type": "display_data"
    }
   ],
   "source": [
    "# Plot roc curve\n",
    "metrics.plot_roc_curve(forest,x_test,y_test)\n",
    "plt.show()"
   ]
  },
  {
   "cell_type": "code",
   "execution_count": 26,
   "id": "5a158653",
   "metadata": {},
   "outputs": [
    {
     "name": "stdout",
     "output_type": "stream",
     "text": [
      "                    feature  Importance\n",
      "21              purpose_A48    0.001737\n",
      "15             purpose_A410    0.002645\n",
      "18              purpose_A44    0.003130\n",
      "19              purpose_A45    0.005668\n",
      "25      savings_balance_A64    0.007269\n",
      "31        other_credit_A142    0.009528\n",
      "24      savings_balance_A63    0.009597\n",
      "34             housing_A153    0.009988\n",
      "20              purpose_A46    0.011386\n",
      "23      savings_balance_A62    0.011644\n",
      "22              purpose_A49    0.012295\n",
      "12       credit_history_A33    0.012547\n",
      "8      checking_balance_A13    0.012949\n",
      "29  employment_duration_A74    0.014069\n",
      "37                 job_A174    0.014574\n",
      "14              purpose_A41    0.015595\n",
      "35                 job_A172    0.015615\n",
      "6                dependents    0.016054\n",
      "30  employment_duration_A75    0.016573\n",
      "16              purpose_A42    0.017283\n",
      "11       credit_history_A32    0.017431\n",
      "28  employment_duration_A73    0.018203\n",
      "10       credit_history_A31    0.018878\n",
      "36                 job_A173    0.018904\n",
      "27  employment_duration_A72    0.019264\n",
      "26      savings_balance_A65    0.019882\n",
      "17              purpose_A43    0.020067\n",
      "7      checking_balance_A12    0.021254\n",
      "33             housing_A152    0.021878\n",
      "32        other_credit_A143    0.022411\n",
      "38               phone_A192    0.023109\n",
      "5      existing_loans_count    0.023235\n",
      "13       credit_history_A34    0.024321\n",
      "3        years_at_residence    0.042047\n",
      "2         percent_of_income    0.044770\n",
      "9      checking_balance_A14    0.068948\n",
      "4                       age    0.105429\n",
      "0      months_loan_duration    0.109518\n",
      "1                    amount    0.140305\n"
     ]
    }
   ],
   "source": [
    "# calculate importance of each predictor for the target using random forest model\n",
    "importances = forest.feature_importances_\n",
    "df = pd.DataFrame({'feature':x_train.columns, 'Importance': importances})\n",
    "df = df.sort_values('Importance')\n",
    "print(df)"
   ]
  },
  {
   "cell_type": "code",
   "execution_count": 27,
   "id": "c204f4d4",
   "metadata": {},
   "outputs": [
    {
     "data": {
      "text/plain": [
       "GridSearchCV(cv=10, estimator=DecisionTreeClassifier(random_state=0),\n",
       "             param_grid={'criterion': ['gini', 'entropy'],\n",
       "                         'max_depth': array([ 3,  4,  5,  6,  7,  8,  9, 10, 11, 12, 13, 14]),\n",
       "                         'max_leaf_nodes': [2, 3, 4, 5, 6, 7, 8, 9, 10, 11, 12,\n",
       "                                            13, 14, 15, 16, 17, 18, 19, 20, 21,\n",
       "                                            22, 23, 24, 25, 26, 27, 28, 29, 30,\n",
       "                                            31, ...]})"
      ]
     },
     "execution_count": 27,
     "metadata": {},
     "output_type": "execute_result"
    }
   ],
   "source": [
    "## Perform grid search to tune hyperparams\n",
    "\n",
    "# Define a combo of parameters and apply them to the decision model\n",
    "\n",
    "import numpy as np\n",
    "from sklearn.model_selection import GridSearchCV\n",
    "\n",
    "params = {'criterion': ['gini','entropy'],'max_leaf_nodes': list(range(2,50)), 'max_depth':np.arange(3,15)}\n",
    "tree_grid = GridSearchCV(DecisionTreeClassifier(random_state = 0), params, cv=10)\n",
    "tree_grid.fit(x_train,y_train)"
   ]
  },
  {
   "cell_type": "code",
   "execution_count": 29,
   "id": "caf8043e",
   "metadata": {},
   "outputs": [
    {
     "data": {
      "text/plain": [
       "DecisionTreeClassifier(max_depth=10, max_leaf_nodes=17, random_state=0)"
      ]
     },
     "execution_count": 29,
     "metadata": {},
     "output_type": "execute_result"
    }
   ],
   "source": [
    "# Value of max_depth that is best for the model?\n",
    "\n",
    "tree_grid.best_estimator_"
   ]
  },
  {
   "cell_type": "code",
   "execution_count": 31,
   "id": "a0b0ad36",
   "metadata": {},
   "outputs": [
    {
     "name": "stdout",
     "output_type": "stream",
     "text": [
      "Grid-search Model Accuracy on test set: 0.740\n"
     ]
    }
   ],
   "source": [
    "# Apply model on test set and get accuracy\n",
    "\n",
    "y_pred_grid = tree_grid.predict(x_test)\n",
    "print('Grid-search Model Accuracy on test set: {:.3f}'.format(accuracy_score(y_test,y_pred_grid)))"
   ]
  },
  {
   "cell_type": "code",
   "execution_count": 32,
   "id": "b5b54034",
   "metadata": {},
   "outputs": [
    {
     "name": "stderr",
     "output_type": "stream",
     "text": [
      "/Users/babs/opt/anaconda3/lib/python3.9/site-packages/sklearn/utils/deprecation.py:87: FutureWarning: Function plot_roc_curve is deprecated; Function :func:`plot_roc_curve` is deprecated in 1.0 and will be removed in 1.2. Use one of the class methods: :meth:`sklearn.metric.RocCurveDisplay.from_predictions` or :meth:`sklearn.metric.RocCurveDisplay.from_estimator`.\n",
      "  warnings.warn(msg, category=FutureWarning)\n"
     ]
    },
    {
     "data": {
      "image/png": "[encoded data removed]",
      "text/plain": [
       "<Figure size 432x288 with 1 Axes>"
      ]
     },
     "metadata": {
      "needs_background": "light"
     },
     "output_type": "display_data"
    }
   ],
   "source": [
    "# Visualize ROC curve and eastimate AUC Value\n",
    "# Plot roc curve\n",
    "metrics.plot_roc_curve(tree_grid,x_test,y_test)\n",
    "plt.show()"
   ]
  },
  {
   "cell_type": "code",
   "execution_count": null,
   "id": "e4479ac3",
   "metadata": {},
   "outputs": [],
   "source": []
  }
 ],
 "metadata": {
  "kernelspec": {
   "display_name": "Python 3 (ipykernel)",
   "language": "python",
   "name": "python3"
  },
  "language_info": {
   "codemirror_mode": {
    "name": "ipython",
    "version": 3
   },
   "file_extension": ".py",
   "mimetype": "text/x-python",
   "name": "python",
   "nbconvert_exporter": "python",
   "pygments_lexer": "ipython3",
   "version": "3.9.12"
  }
 },
 "nbformat": 4,
 "nbformat_minor": 5
}
